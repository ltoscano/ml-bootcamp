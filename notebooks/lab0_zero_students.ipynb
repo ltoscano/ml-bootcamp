{
 "cells": [
  {
   "cell_type": "markdown",
   "metadata": {
    "deletable": true,
    "editable": true
   },
   "source": [
    "# Lab 0 - Machine Learning basics\n",
    "\n",
    "In this first notebook we will cover a few basic topics without really using any specific machine learning libraries.\n",
    "\n",
    "Main concepts:\n",
    "\n",
    " * Dataset\n",
    " * Training\n",
    " * Basic plotting"
   ]
  },
  {
   "cell_type": "markdown",
   "metadata": {
    "deletable": true,
    "editable": true
   },
   "source": [
    "## Imports and setup\n",
    "\n",
    "The usual stuff:\n",
    "\n",
    " * Magic command `%matplotlib inline` so that plots are displayed correctly in the notebook.\n",
    " * `matplotlib` followed by `seaborn` in order to have fancy plots\n",
    " * `numpy` _et similia_ for number crunching.\n"
   ]
  },
  {
   "cell_type": "code",
   "execution_count": 2,
   "metadata": {
    "collapsed": false,
    "deletable": true,
    "editable": true
   },
   "outputs": [],
   "source": [
    "%matplotlib inline\n",
    "\n",
    "import matplotlib\n",
    "from matplotlib import pyplot as plt\n",
    "\n",
    "import seaborn\n",
    "\n",
    "import numpy as np\n",
    "\n",
    "from numpy.linalg import inv"
   ]
  },
  {
   "cell_type": "markdown",
   "metadata": {
    "deletable": true,
    "editable": true
   },
   "source": [
    "## Dataset generation\n",
    "\n",
    "We want to simulate a very simple dataset where samples consist of $(x_i, y_i)$ pairs with $x_i, y_i \\in \\mathbb{R}$, for $i = 1, \\dots, n$.\n",
    "\n",
    "We assume there is a _linear relatioship_ between $y$ and $x$ of the form $y = wx + c$. However, we want to simulate a certain amount of noise in the measurements, so each point will be generated first drawing $x_i$ from a uniform distribution and then computing the corresponding $y_i$ using the following rule: \n",
    "\n",
    "$$\n",
    "y_i = wx_i + c + \\epsilon,\n",
    "$$\n",
    "\n",
    "where $\\epsilon \\sim \\mathcal{N}(0, \\sigma^2)$"
   ]
  },
  {
   "cell_type": "markdown",
   "metadata": {
    "collapsed": true,
    "deletable": true,
    "editable": true
   },
   "source": [
    "<img style=\"float: left;\" src=\"warning.png\" width=\"20px\"> &nbsp; **Notation**: upper case letters such as $X$ are used to represent _matrices_ (although in the example it is a $10 \\times 1$ matrix), lower case letters such as $y$ are used for _vectors_."
   ]
  },
  {
   "cell_type": "code",
   "execution_count": 3,
   "metadata": {
    "collapsed": false,
    "deletable": true,
    "editable": true
   },
   "outputs": [],
   "source": [
    "n = 10 # the number of samples\n",
    "\n",
    "X = np.random.uniform(-1, 1, size=(n,1))\n",
    "\n",
    "w = 1.3\n",
    "c = 0.7\n",
    "\n",
    "sigma = 0.3\n",
    "\n",
    "\n",
    "y = w * X + c + np.random.normal(0, sigma**2, size=(n,1))\n"
   ]
  },
  {
   "cell_type": "markdown",
   "metadata": {
    "deletable": true,
    "editable": true
   },
   "source": [
    "## Plotting\n",
    "\n",
    "Since data points lie on a plane, we can visualize them."
   ]
  },
  {
   "cell_type": "code",
   "execution_count": 4,
   "metadata": {
    "collapsed": false,
    "deletable": true,
    "editable": true
   },
   "outputs": [
    {
     "data": {
      "image/png": "[encoded data removed]",
      "text/plain": [
       "<matplotlib.figure.Figure at 0x1132cc9d0>"
      ]
     },
     "metadata": {},
     "output_type": "display_data"
    }
   ],
   "source": [
    "fig, ax = plt.subplots()\n",
    "\n",
    "ax.set_title(\"Dummy dataset\")\n",
    "ax.set_xlabel(\"$x$\")\n",
    "ax.set_ylabel(\"$y$\")\n",
    "\n",
    "ax.scatter(X, y, c=[\"orange\"]);"
   ]
  },
  {
   "cell_type": "markdown",
   "metadata": {
    "deletable": true,
    "editable": true
   },
   "source": [
    "## Training a model\n",
    "\n",
    "### Ordinary Least Squares (OLS)\n",
    "\n",
    "Let's forget for a second about the coefficient $c$. We'll take into account it again later.\n",
    "\n",
    "We want to try and recover the coefficient $m$; we do so by _minimizing_ a functional, which in this case consists exclusively of a _loss term_.\n",
    "\n",
    "Such loss term represents the adherence (or, more precisely, the lack thereof) of the inferred model $f$ (which in this simple case simply consists of the angular coefficient $w$) to the available data. A common choice is to use the _square loss_.\n",
    "\n",
    "$$\n",
    "L_{f}(X, y) = \\sum_{i=1}^n (f(x_i) - y_i)^2\n",
    "$$\n",
    "\n",
    "which in our simple case is\n",
    "\n",
    "$$\n",
    "L_{w}(X, y) = \\sum_{i=1}^n (w x_i - y_i)^2\n",
    "$$\n",
    "\n",
    "In a more compact matrix notation (useful when $X$ is a generic $n \\times d$ matrix)\n",
    "\n",
    "$$\n",
    "L_{{\\bf w}}(X, {\\bf y}) = \\|X^T {\\bf w} - {\\bf y}\\|_2^2\n",
    "$$\n",
    "\n",
    "To retrieve the $\\hat{\\bf w}$ that minimizes that functional, we simply differentiate $L_{{\\bf w}}(X, {\\bf y})$ with respect to ${\\bf w}$ and set it to $0$.\n",
    "\n",
    "\n",
    "\\begin{align}\n",
    "\\frac {\\partial L}{\\partial {\\bf w}} & = 0 \\\\\n",
    "(X^T X) \\hat{\\bf w} -X^T {\\bf y} & = 0 \\\\\n",
    "(X^T X) \\hat{\\bf w} & = X^T {\\bf y}\n",
    "\\end{align}\n",
    "\n",
    "and therefore\n",
    "\n",
    "$$\n",
    "\\hat{\\bf w} = (X^T X)^{-1} X^T {\\bf y}\n",
    "$$"
   ]
  },
  {
   "cell_type": "markdown",
   "metadata": {
    "deletable": true,
    "editable": true
   },
   "source": [
    "<img style=\"float: left;\" src=\"info.png\" width=\"20px\"> &nbsp; **Useful `numpy` functions and methods:**\n",
    "\n",
    "```python\n",
    "\n",
    "# Transpose of a matrix\n",
    "A.T\n",
    "\n",
    "# Dot product. A and b can be any mix of matrices or vectors, \n",
    "# as long as they have the appropriate dimensions\n",
    "A.dot(b)\n",
    "\n",
    "# Matrix inversion (using function 'inv' from numpy.linalg)\n",
    "inv(A)\n",
    "```"
   ]
  },
  {
   "cell_type": "code",
   "execution_count": 5,
   "metadata": {
    "collapsed": false,
    "deletable": true,
    "editable": true
   },
   "outputs": [],
   "source": [
    "### BEGIN STUDENTS\n",
    "\n",
    "w_hat = inv(X.T.dot(X)).dot(X.T).dot(y)\n",
    "\n",
    "### END STUDENTS"
   ]
  },
  {
   "cell_type": "markdown",
   "metadata": {
    "deletable": true,
    "editable": true
   },
   "source": [
    "Now let's plot the dataset and the fitted line"
   ]
  },
  {
   "cell_type": "code",
   "execution_count": 6,
   "metadata": {
    "collapsed": false,
    "deletable": true,
    "editable": true
   },
   "outputs": [
    {
     "data": {
      "image/png": "[encoded data removed]",
      "text/plain": [
       "<matplotlib.figure.Figure at 0x1134dae90>"
      ]
     },
     "metadata": {},
     "output_type": "display_data"
    }
   ],
   "source": [
    "fig, ax = plt.subplots()\n",
    "\n",
    "ax.set_title(\"Dummy dataset\")\n",
    "ax.set_xlabel(\"$x$\")\n",
    "ax.set_ylabel(\"$y$\")\n",
    "\n",
    "ax.scatter(X, y, c=[\"orange\"]);\n",
    "\n",
    "xmin = X.min()\n",
    "xmax = X.max()\n",
    "\n",
    "ymin = float(w_hat * xmin)\n",
    "ymax = float(w_hat * xmax)\n",
    "\n",
    "ax.plot([xmin, xmax], [ymin, ymax], 'k-');"
   ]
  },
  {
   "cell_type": "markdown",
   "metadata": {
    "deletable": true,
    "editable": true
   },
   "source": [
    "It probably kinda sucks. While the _slope_ of the line is probably almost correct (it depends on how many samples you generated), it fails to be a good approximation.\n",
    "\n",
    "This is due to the fact that while the _real_ model has an additional parameter $c$, the _intercept_, we did not include it in our model, which just consisted of the _slope_ $w$.\n",
    "\n",
    "We'll get to it right now.\n",
    "\n",
    "The simplest way to account for the intercept is to add an extra column to the data matrix $X$ where all entries are equal to $1$, and pretend it's just another _feature_ of our dataset. In facts, since each input is now a bidimensional vector ${\\bf x}_i = [1, x_i]^T$, if we think our model as a bidimensional vector ${\\bf w} = [c, w]^T$, then\n",
    "\n",
    "$$\n",
    "y_i = c + w x_i = {\\bf w}^T {\\bf x}_i\n",
    "$$"
   ]
  },
  {
   "cell_type": "code",
   "execution_count": 7,
   "metadata": {
    "collapsed": false,
    "deletable": true,
    "editable": true
   },
   "outputs": [
    {
     "name": "stdout",
     "output_type": "stream",
     "text": [
      "(10, 1)\n",
      "[[-0.83532677  1.        ]\n",
      " [ 0.53411402  1.        ]\n",
      " [ 0.86715163  1.        ]\n",
      " [-0.35405287  1.        ]\n",
      " [ 0.03880872  1.        ]\n",
      " [-0.83674539  1.        ]\n",
      " [-0.67150211  1.        ]\n",
      " [-0.04780662  1.        ]\n",
      " [-0.0289283   1.        ]\n",
      " [-0.6905487   1.        ]]\n"
     ]
    }
   ],
   "source": [
    "### BEGIN STUDENTS ###\n",
    "n, p = X.shape\n",
    "X_ones = np.concatenate((X, np.ones((n,1))), axis=1)\n",
    "print(X.shape)\n",
    "print(X_ones)\n",
    "w_hat = inv(X_ones.T.dot(X_ones)).dot(X_ones.T).dot(y)\n",
    "\n",
    "### END STUDENTS ###"
   ]
  },
  {
   "cell_type": "markdown",
   "metadata": {
    "deletable": true,
    "editable": true
   },
   "source": [
    "Now let's plot it again"
   ]
  },
  {
   "cell_type": "code",
   "execution_count": 9,
   "metadata": {
    "collapsed": false,
    "deletable": true,
    "editable": true
   },
   "outputs": [
    {
     "data": {
      "image/png": "[encoded data removed]",
      "text/plain": [
       "<matplotlib.figure.Figure at 0x1134dab50>"
      ]
     },
     "metadata": {},
     "output_type": "display_data"
    }
   ],
   "source": [
    "fig, ax = plt.subplots()\n",
    "\n",
    "ax.set_title(\"Dummy dataset\")\n",
    "ax.set_xlabel(\"$x$\")\n",
    "ax.set_ylabel(\"$y$\")\n",
    "\n",
    "ax.scatter(X, y, c=[\"orange\"]);\n",
    "\n",
    "xmin = X.min()\n",
    "xmax = X.max()\n",
    "\n",
    "ymin = w_hat[0] * xmin + w_hat[1]\n",
    "ymax = w_hat[0] * xmax + w_hat[1]\n",
    "\n",
    "ax.plot([xmin, xmax], [ymin, ymax], 'k-');"
   ]
  },
  {
   "cell_type": "code",
   "execution_count": null,
   "metadata": {
    "collapsed": true,
    "deletable": true,
    "editable": true
   },
   "outputs": [],
   "source": []
  }
 ],
 "metadata": {
  "anaconda-cloud": {},
  "kernelspec": {
   "display_name": "Python 2",
   "language": "python",
   "name": "python2"
  },
  "language_info": {
   "codemirror_mode": {
    "name": "ipython",
    "version": 2
   },
   "file_extension": ".py",
   "mimetype": "text/x-python",
   "name": "python",
   "nbconvert_exporter": "python",
   "pygments_lexer": "ipython2",
   "version": "2.7.13"
  }
 },
 "nbformat": 4,
 "nbformat_minor": 0
}

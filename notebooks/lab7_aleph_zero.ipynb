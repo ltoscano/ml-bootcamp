{
 "cells": [
  {
   "cell_type": "markdown",
   "metadata": {
    "deletable": true,
    "editable": true
   },
   "source": [
    "# Lab 7 [$\\aleph_0$]: an unbiased variable selection procedure\n",
    "\n",
    "It's finally time to put everything together. We'll start by analyzing a real dataset using the traditional pipeline, as shown in the figure below, and see how it can fail due to some characteristics of the dataset.\n",
    "\n",
    "We will then move on to a more sophisticated analysis pipeline to overcome those limitations.\n",
    "\n",
    "![Supervised learning pipeline](supervised_learning_pipeline.png)\n",
    "\n",
    "Main concepts:\n",
    "\n",
    " * Unbiased variable selection\n",
    " * Permutation test"
   ]
  },
  {
   "cell_type": "markdown",
   "metadata": {
    "deletable": true,
    "editable": true
   },
   "source": [
    "## Imports and setup\n",
    "\n",
    "The usual stuff:\n",
    "\n",
    " * Magic command `%matplotlib inline` so that plots are displayed correctly in the notebook.\n",
    " * `matplotlib` followed by `seaborn` in order to have fancy plots\n",
    " * `numpy` _et similia_ for number crunching.\n",
    " * `pandas` to read the dataset files which are in csv format \n",
    " \n",
    "Additional libraries will be imported whenever they are needed"
   ]
  },
  {
   "cell_type": "code",
   "execution_count": 114,
   "metadata": {
    "collapsed": false,
    "deletable": true,
    "editable": true
   },
   "outputs": [],
   "source": [
    "%matplotlib inline\n",
    "\n",
    "from __future__ import division\n",
    "\n",
    "import matplotlib\n",
    "from matplotlib import pyplot as plt\n",
    "\n",
    "import seaborn\n",
    "\n",
    "import numpy as np\n",
    "import pandas as pd"
   ]
  },
  {
   "cell_type": "markdown",
   "metadata": {
    "deletable": true,
    "editable": true
   },
   "source": [
    "## Dataset\n",
    "\n",
    "This time we will use an actual dataset, the _Golub_ dataset from [[1]](https://www.ncbi.nlm.nih.gov/pubmed/10521349).\n",
    "It consists of a total of 38 samples of patients affected by two different types of leukemia (ALL and AML). Each sample is represented by the expression levels of 7129 genes, so the size of the input matrix `X` will be a $38 \\times 7129$."
   ]
  },
  {
   "cell_type": "code",
   "execution_count": 115,
   "metadata": {
    "collapsed": false
   },
   "outputs": [],
   "source": [
    "data_file = 'data/gedm.csv'\n",
    "labels_file = 'data/labels.csv'\n",
    "\n",
    "data = pd.read_csv(data_file, index_col=0)\n",
    "X = data.as_matrix().T # we need to transpose because of how the file is writtend\n",
    "\n",
    "# Also extract feature names\n",
    "feature_names = data.index\n",
    "\n",
    "labels = pd.read_csv(labels_file, index_col=0)\n",
    "y = labels.as_matrix().ravel()"
   ]
  },
  {
   "cell_type": "code",
   "execution_count": 116,
   "metadata": {
    "collapsed": true
   },
   "outputs": [],
   "source": [
    "# Retrieve the shape of the matrix\n",
    "n, d = X.shape\n",
    "\n",
    "# Shuffle the dataset manually\n",
    "np.random.seed(3)\n",
    "idx = np.arange(n)\n",
    "np.random.shuffle(idx)\n",
    "\n",
    "X = X[idx, :]\n",
    "y = y[idx]\n",
    "\n",
    "n4 = int(n/3)\n",
    "\n",
    "idx_tr = idx[n4:] # indexes of training samples\n",
    "idx_ts = idx[:n4] # indexes of test samples\n",
    "\n",
    "X_tr = X[idx_tr, :]\n",
    "X_ts = X[idx_ts, :]\n",
    "\n",
    "y_tr = y[idx_tr]\n",
    "y_ts = y[idx_ts]"
   ]
  },
  {
   "cell_type": "markdown",
   "metadata": {},
   "source": [
    "Take a look at the nature of the labels vector `y`. As in, print it and see what are its components."
   ]
  },
  {
   "cell_type": "code",
   "execution_count": 117,
   "metadata": {
    "collapsed": true
   },
   "outputs": [],
   "source": [
    "### BEGIN STUDENTS ###\n",
    "### END STUDENTS ###"
   ]
  },
  {
   "cell_type": "markdown",
   "metadata": {},
   "source": [
    "This was just to show you that it containst _string_ type objects. However, sklearn's methods are smart enough to recognize that there are only **two** different strings, and algorithms for classification work without any need to explicitly encode those strings into real values.\n",
    "\n",
    "Now, let's proceed by training a model on the data.\n",
    "\n",
    "<img style=\"float: left;\" src=\"warning.png\" width=\"20px\"> &nbsp; **Warning**: Do not touch the configuration, as it is set to reproduce a particular result."
   ]
  },
  {
   "cell_type": "code",
   "execution_count": 118,
   "metadata": {
    "collapsed": false
   },
   "outputs": [
    {
     "name": "stdout",
     "output_type": "stream",
     "text": [
      "Accuracy score: 0.75\n"
     ]
    }
   ],
   "source": [
    "# Import algorithms for classification\n",
    "from sklearn.feature_selection import RFE\n",
    "from sklearn.svm import LinearSVC\n",
    "\n",
    "from sklearn.metrics import accuracy_score\n",
    "\n",
    "# Model selection\n",
    "from sklearn.model_selection import GridSearchCV\n",
    "\n",
    "# Set the estimator to be a GridSearchCV\n",
    "param_grid = {\n",
    "    'n_features_to_select': [10, 20, 50],\n",
    "    'estimator__C': np.logspace(-4, 0, 5),\n",
    "}\n",
    "\n",
    "# STEP 1: Variable selection                                                                                                                                                                              \n",
    "vs = RFE(LinearSVC(loss='hinge'), step=0.3)                                                                                                                                                               \n",
    "\n",
    "grid_search = GridSearchCV(vs, param_grid=param_grid)\n",
    "grid_search.fit(X_tr, y_tr)\n",
    "y_pred = grid_search.predict(X_ts)\n",
    "\n",
    "acc_score = accuracy_score(y_ts, y_pred)\n",
    "print(\"Accuracy score: {}\".format(acc_score))"
   ]
  },
  {
   "cell_type": "markdown",
   "metadata": {},
   "source": [
    "We obtained an accuracy score of 0.75.\n",
    "\n",
    "Question: _is it good_? Think about it. Ok, of course if I'm writing this it means that it's not good. \n",
    "\n",
    "New question (this time for real): _why_ it isn't good? Think about it for a couple of minutes."
   ]
  },
  {
   "cell_type": "markdown",
   "metadata": {},
   "source": [
    "SPOILERS   \n",
    "SPOILERS   \n",
    "SPOILERS   \n",
    "SPOILERS   \n",
    "SPOILERS   \n",
    "SPOILERS   \n",
    "SPOILERS   \n",
    "SPOILERS   \n",
    "SPOILERS   \n",
    "SPOILERS   \n",
    "SPOILERS   \n",
    "SPOILERS   \n",
    "SPOILERS   \n",
    "SPOILERS   \n",
    "SPOILERS   \n",
    "SPOILERS   \n",
    "SPOILERS   \n",
    "SPOILERS   \n",
    "SPOILERS   \n",
    "SPOILERS   \n",
    "SPOILERS   \n",
    "SPOILERS   \n",
    "SPOILERS   \n",
    "SPOILERS   \n",
    "SPOILERS   \n",
    "SPOILERS   \n",
    "SPOILERS   \n",
    "SPOILERS   \n",
    "SPOILERS   \n",
    "SPOILERS   \n",
    "SPOILERS   \n",
    "SPOILERS   \n",
    "SPOILERS   \n",
    "SPOILERS   \n",
    "SPOILERS\n",
    "SPOILERS   \n",
    "SPOILERS   \n",
    "SPOILERS   \n",
    "SPOILERS   \n",
    "SPOILERS   \n",
    "SPOILERS   \n",
    "SPOILERS   \n",
    "SPOILERS   \n",
    "SPOILERS   \n",
    "SPOILERS   \n",
    "SPOILERS   \n",
    "SPOILERS   \n",
    "SPOILERS   \n",
    "SPOILERS   \n",
    "SPOILERS   \n",
    "SPOILERS   \n",
    "SPOILERS   \n",
    "SPOILERS   \n",
    "SPOILERS   \n",
    "SPOILERS   \n",
    "SPOILERS   \n",
    "SPOILERS   \n",
    "SPOILERS   \n",
    "SPOILERS   \n",
    "SPOILERS   \n",
    "SPOILERS   \n",
    "SPOILERS   \n",
    "SPOILERS   \n",
    "SPOILERS   \n",
    "SPOILERS   \n",
    "SPOILERS   \n",
    "SPOILERS   \n",
    "SPOILERS   \n",
    "SPOILERS   \n",
    "SPOILERS   \n",
    "SPOILERS   \n",
    "SPOILERS   \n",
    "SPOILERS   \n",
    "SPOILERS   \n",
    "SPOILERS   \n",
    "SPOILERS   \n",
    "SPOILERS   "
   ]
  },
  {
   "cell_type": "markdown",
   "metadata": {},
   "source": [
    "Ok, now that we decided that it's not a good result, what do we do? I mean, do we accept it? However, if we do so it would mean to claim that there is no apparent relation between input and output, as if among those genes it's not possible to find any responsible for the disease.   \n",
    "Which _could_ very well be the case, however are we sure we have ruled out all possible explanations for such a poor result?\n",
    "\n",
    "The answer again is _no_.\n",
    "\n",
    "The thing is, with so few samples in such a high dimensional space (38 vs 7219), the way we initially split our dataset in training and test set has a great impact on the results.\n",
    "\n",
    "In order to cancel out the effect of randomness induced by the split, a solution is to _repeat_ the whole pipeline several times, each time splitting the dataset in two (slightly) different training and test set using _Monte Carlo resampling_.\n",
    "\n",
    "To do so, we will use a `python` package developed by a beautiful PhD student, available at https://github.com/slipguru/palladio (you should already have it installed if you followed the instructions I gave you).\n",
    "\n",
    "![Palladio](palladio_logo_npbg.png)\n",
    "\n",
    "I can only provide a simple example, and don't really have time to go over all configuration options.\n",
    "\n",
    "I'll give you the quick version: it works by repeating the pipeline many times so that we end up with a _distribution_ of accuracy values, rather than a single one. Moreover, it repeats the pipeline in a different setting, that is by randomly shuffling the labels **of the training set only**, in order to simulate a dataset in which we already know in advance there's nothing to find, as in the example in the previous lab. In the end, these two distributions are compared using a statistical test (the _two sample Kolmogorov Smirnov test_, which determines if two sets of values come from the same population, without any assumption over the shape of the distribution).    \n",
    "As far as it concerns variable selection, every repetition of the pipeline will return a [possibly different] set o variables; by observing the selection frequency of the variables we may have a clearer idea of which are the relevant ones, without worrying about the randomness of the split."
   ]
  },
  {
   "cell_type": "code",
   "execution_count": 119,
   "metadata": {
    "collapsed": false
   },
   "outputs": [],
   "source": [
    "# PALLADIO imports\n",
    "import palladio\n",
    "import palladio.analysis\n",
    "import palladio.plotting\n",
    "\n",
    "# Dataset stuff\n",
    "from palladio import datasets\n",
    "\n",
    "\n",
    "# Dataset loading\n",
    "data_path = 'data/gedm.csv'\n",
    "target_path = 'data/labels.csv'\n",
    "\n",
    "\n",
    "\n",
    "data_loading_options = target_loading_options = {                                                                                                                                                                                  \n",
    "    'delimiter': ',',                                                                                                                                                                                     \n",
    "    'header': 0,                                                                                                                                                                                          \n",
    "    'index_col': 0                                                                                                                                                                                        \n",
    "}\n",
    "\n",
    "dataset = datasets.load_csv(data_path, target_path,                                                                                                                                                       \n",
    "                            data_loading_options=data_loading_options,                                                                                                                                    \n",
    "                            target_loading_options=target_loading_options,                                                                                                                                \n",
    "                            samples_on='col')                                                                                                                                                             \n",
    "data, labels = dataset.data, dataset.target\n",
    "feature_names = dataset.feature_names\n",
    "\n"
   ]
  },
  {
   "cell_type": "markdown",
   "metadata": {},
   "source": [
    "<img style=\"float: left;\" src=\"warning.png\" width=\"20px\"> &nbsp; **Warning**: In case you need to, change the `session_folder`."
   ]
  },
  {
   "cell_type": "code",
   "execution_count": 120,
   "metadata": {
    "collapsed": true
   },
   "outputs": [],
   "source": [
    "# Subfolder where results will be saved\n",
    "session_folder = '/tmp/results'\n",
    "\n",
    "# The learning task, if None palladio tries to guess it\n",
    "# [see sklearn.utils.multiclass.type_of_target]\n",
    "learning_task = None\n",
    "\n",
    "# Usually we would do more than 5 repetitions, but on a single machine it would take too much time\n",
    "n_splits_permutation = 5\n",
    "n_splits_regular = 5"
   ]
  },
  {
   "cell_type": "code",
   "execution_count": 121,
   "metadata": {
    "collapsed": true
   },
   "outputs": [],
   "source": [
    "# STEP 1: Variable selection                                                                                                                                                                              \n",
    "vs = RFE(LinearSVC(loss='hinge'), step=0.3)                                                                                                                                                               \n",
    "\n",
    "# Set the estimator to be a GridSearchCV\n",
    "param_grid = {\n",
    "    'n_features_to_select': [10, 20, 50],\n",
    "    'estimator__C': np.logspace(-4, 0, 5),\n",
    "}\n",
    "\n",
    "estimator = GridSearchCV(vs, param_grid=param_grid, cv=3, scoring='accuracy')\n",
    "\n",
    "# Set options for ModelAssessment\n",
    "ma_options = {\n",
    "    'test_size': 0.25,\n",
    "    'scoring': 'accuracy',\n",
    "    'n_jobs': -1,\n",
    "    'n_splits': n_splits_regular\n",
    "}"
   ]
  },
  {
   "cell_type": "code",
   "execution_count": 122,
   "metadata": {
    "collapsed": true
   },
   "outputs": [],
   "source": [
    "vs_analysis = True\n",
    "\n",
    "frequency_threshold = 0.75\n",
    "\n",
    "score_surfaces_options = {}"
   ]
  },
  {
   "cell_type": "code",
   "execution_count": 123,
   "metadata": {
    "collapsed": true
   },
   "outputs": [],
   "source": [
    "### Compose the configuration object\n",
    "\n",
    "# TODO must fix\n",
    "class Struct:\n",
    "    def __init__(self, **entries):\n",
    "        self.__dict__.update(entries)\n",
    "        \n",
    "config_dict = {\n",
    "    # Dataset\n",
    "    'data' : data,\n",
    "    'labels' : labels,\n",
    "    'feature_names' : feature_names,\n",
    "    # Session\n",
    "    'session_folder' : session_folder,\n",
    "    'learning_task' : learning_task,\n",
    "    'n_splits_permutation' : n_splits_permutation,\n",
    "    # Learning algorithm\n",
    "    'estimator' : estimator,\n",
    "    'param_grid' : param_grid,\n",
    "    'ma_options' : ma_options,\n",
    "    # Analysis\n",
    "    'vs_analysis' : vs_analysis,\n",
    "    'frequency_threshold' : frequency_threshold,\n",
    "    'score_surfaces_options' : score_surfaces_options,\n",
    "    \n",
    "    \n",
    "}\n",
    "\n",
    "config = Struct(**config_dict)"
   ]
  },
  {
   "cell_type": "markdown",
   "metadata": {},
   "source": [
    "## Experiment running"
   ]
  },
  {
   "cell_type": "code",
   "execution_count": 124,
   "metadata": {
    "collapsed": false
   },
   "outputs": [
    {
     "name": "stdout",
     "output_type": "stream",
     "text": [
      "Loading dataset...\n",
      "  * Data shape: (38, 7129)\n",
      "  * Labels shape: (38,)\n"
     ]
    }
   ],
   "source": [
    "regular_batch, permutation_batch = palladio.job_distribution.main(config=config)"
   ]
  },
  {
   "cell_type": "code",
   "execution_count": 125,
   "metadata": {
    "collapsed": true
   },
   "outputs": [],
   "source": [
    "## Analysis"
   ]
  },
  {
   "cell_type": "code",
   "execution_count": 126,
   "metadata": {
    "collapsed": true
   },
   "outputs": [],
   "source": [
    "performance_regular = palladio.analysis.performance_metrics(\n",
    "    regular_batch.cv_results_, \n",
    "    config.labels, \n",
    "    target='classification'\n",
    ")\n",
    "\n",
    "performance_permutation = palladio.analysis.performance_metrics(\n",
    "    permutation_batch.cv_results_, \n",
    "    config.labels, \n",
    "    target='classification'\n",
    ")"
   ]
  },
  {
   "cell_type": "code",
   "execution_count": 127,
   "metadata": {
    "collapsed": false
   },
   "outputs": [
    {
     "name": "stdout",
     "output_type": "stream",
     "text": [
      "[accuracy_score] Two sample Kolmogorov-Smirnov test: Ks_2sampResult(statistic=0.80000000000000004, pvalue=0.03614619076928504)\n"
     ]
    },
    {
     "data": {
      "image/png": "[encoded data removed]",
      "text/plain": [
       "<matplotlib.figure.Figure at 0x113f875d0>"
      ]
     },
     "metadata": {},
     "output_type": "display_data"
    }
   ],
   "source": [
    "fig, ax1 = plt.subplots(figsize=(16, 10))\n",
    "\n",
    "metric = 'accuracy_score'\n",
    "\n",
    "palladio.plotting.distributions(\n",
    "            v_regular=performance_regular[metric],\n",
    "            v_permutation=performance_permutation[metric],\n",
    "            fig=fig, ax=ax1,\n",
    "            metric=metric\n",
    ")"
   ]
  },
  {
   "cell_type": "code",
   "execution_count": 128,
   "metadata": {
    "collapsed": false
   },
   "outputs": [
    {
     "name": "stdout",
     "output_type": "stream",
     "text": [
      "[['D21261_at' 5.0]\n",
      " ['M96326_rna1_at' 5.0]\n",
      " ['M27891_at' 5.0]\n",
      " ['Z19554_s_at' 5.0]\n",
      " ['M69043_at' 5.0]\n",
      " ['Y00787_s_at' 5.0]\n",
      " ['D49824_s_at' 5.0]\n",
      " ['M19507_at' 5.0]\n",
      " ['M17733_at' 5.0]\n",
      " ['Y00433_at' 4.0]\n",
      " ['L06797_s_at' 4.0]\n",
      " ['M14328_s_at' 4.0]\n",
      " ['L20941_at' 4.0]\n",
      " ['M14483_rna1_s_at' 4.0]\n",
      " ['X17042_at' 4.0]\n",
      " ['M91438_at' 4.0]\n",
      " ['M11147_at' 4.0]\n",
      " ['M63138_at' 4.0]\n",
      " ['X78992_at' 4.0]\n",
      " ['Z48501_s_at' 4.0]\n",
      " ['L19779_at' 4.0]\n",
      " ['M28130_rna1_s_at' 4.0]\n",
      " ['U06155_s_at' 4.0]\n",
      " ['M13792_at' 3.0]\n",
      " ['Z48950_at' 3.0]\n",
      " ['X56681_s_at' 3.0]\n",
      " ['HG1428-HT1428_s_at' 3.0]\n",
      " ['U51004_at' 3.0]\n",
      " ['X04085_rna1_at' 3.0]\n",
      " ['X15183_at' 3.0]\n",
      " ['hum_alu_at' 3.0]\n",
      " ['M24485_s_at' 3.0]\n",
      " ['M25079_s_at' 3.0]\n",
      " ['Z23090_at' 3.0]\n",
      " ['M33680_at' 3.0]\n",
      " ['U05259_rna1_at' 3.0]\n",
      " ['M19045_f_at' 3.0]\n",
      " ['HG3576-HT3779_f_at' 3.0]\n",
      " ['Z84721_cds2_at' 3.0]\n",
      " ['HG2887-HT3031_at' 3.0]\n",
      " ['AFFX-HUMRGE/M10098_5_at' 2.0]\n",
      " ['X98482_r_at' 2.0]\n",
      " ['M14199_s_at' 2.0]\n",
      " ['X14008_rna1_f_at' 2.0]\n",
      " ['M92843_s_at' 2.0]\n",
      " ['L20688_at' 2.0]\n",
      " ['M91036_rna1_at' 2.0]\n",
      " ['X59417_at' 2.0]\n",
      " ['AFFX-HUMRGE/M10098_3_at' 2.0]\n",
      " ['D79205_at' 2.0]\n",
      " ['U46751_at' 2.0]\n",
      " ['X52851_rna1_at' 2.0]\n",
      " ['D63874_at' 2.0]\n",
      " ['M33600_f_at' 2.0]\n",
      " ['X57351_s_at' 2.0]\n",
      " ['J04164_at' 2.0]\n",
      " ['D64142_at' 2.0]\n",
      " ['X82240_rna1_at' 2.0]\n",
      " ['X00437_s_at' 2.0]\n",
      " ['L49169_at' 2.0]\n",
      " ['M84526_at' 2.0]\n",
      " ['Z70759_at' 1.0]\n",
      " ['M77232_rna1_at' 1.0]\n",
      " ['M12886_at' 1.0]\n",
      " ['U14970_at' 1.0]\n",
      " ['U49869_rna1_at' 1.0]\n",
      " ['U14968_at' 1.0]\n",
      " ['J03801_f_at' 1.0]\n",
      " ['HG3549-HT3751_at' 1.0]\n",
      " ['J00105_s_at' 1.0]\n",
      " ['U14971_at' 1.0]\n",
      " ['M19311_s_at' 1.0]\n",
      " ['M92287_at' 1.0]\n",
      " ['M13560_s_at' 1.0]\n",
      " ['J04990_at' 1.0]\n",
      " ['D86974_at' 1.0]\n",
      " ['S73591_at' 1.0]\n",
      " ['X69654_at' 1.0]\n",
      " ['L38941_at' 1.0]\n",
      " ['U01317_cds4_at' 1.0]\n",
      " ['V00599_s_at' 1.0]\n",
      " ['M19283_at' 1.0]\n",
      " ['M63438_s_at' 1.0]\n",
      " ['M87789_s_at' 1.0]\n",
      " ['U22376_cds2_s_at' 1.0]\n",
      " ['L19605_at' 1.0]\n",
      " ['M84711_at' 1.0]\n",
      " ['L14927_at' 0.0]\n",
      " ['D32002_s_at' 0.0]\n",
      " ['X77753_at' 0.0]\n",
      " ['M86757_s_at' 0.0]\n",
      " ['D23662_at' 0.0]\n",
      " ['HG3521-HT3715_at' 0.0]\n",
      " ['L22454_at' 0.0]\n",
      " ['X70340_at' 0.0]\n",
      " ['L49218_f_at' 0.0]\n",
      " ['U94333_at' 0.0]\n",
      " ['M65134_s_at' 0.0]\n",
      " ['D26561_cds3_at' 0.0]\n",
      " ['U67784_at' 0.0]]\n"
     ]
    }
   ],
   "source": [
    "from palladio.utils import get_selected_list\n",
    "\n",
    "from six import iteritems\n",
    "\n",
    "selected = {}\n",
    "# Init variable selection containers\n",
    "selected['regular'] = dict(zip(feature_names,\n",
    "                                       np.zeros(len(feature_names))))\n",
    "\n",
    "feature_names = np.array(feature_names)\n",
    "\n",
    "for b in range(n_splits_regular):\n",
    "    f_idx = selected_feature_indices = get_selected_list(regular_batch.cv_results_['estimator'][b], True)\n",
    "    f_names = feature_names[f_idx]\n",
    "    for f in f_names:\n",
    "    \n",
    "        selected['regular'][f] += 1\n",
    "      \n",
    "feat_arr_r = np.array(list(iteritems(selected['regular'])), dtype=object)\n",
    "feat_arr_r = feat_arr_r[feat_arr_r[:, 1].argsort()]\n",
    "    \n",
    "print(feat_arr_r[::-1][:100])"
   ]
  },
  {
   "cell_type": "markdown",
   "metadata": {},
   "source": [
    "We did too few experiments to get meaningful feature selection frequencies, however this is how a plot of the top $2 \\times M$ features (where M is the number of features whose selection frequency is above a fixed threshold) would look like.\n",
    "\n",
    "![Palladio](feature_frequencies.png)"
   ]
  },
  {
   "cell_type": "code",
   "execution_count": null,
   "metadata": {
    "collapsed": true
   },
   "outputs": [],
   "source": []
  }
 ],
 "metadata": {
  "anaconda-cloud": {},
  "kernelspec": {
   "display_name": "Python 2",
   "language": "python",
   "name": "python2"
  },
  "language_info": {
   "codemirror_mode": {
    "name": "ipython",
    "version": 2
   },
   "file_extension": ".py",
   "mimetype": "text/x-python",
   "name": "python",
   "nbconvert_exporter": "python",
   "pygments_lexer": "ipython2",
   "version": "2.7.13"
  }
 },
 "nbformat": 4,
 "nbformat_minor": 0
}

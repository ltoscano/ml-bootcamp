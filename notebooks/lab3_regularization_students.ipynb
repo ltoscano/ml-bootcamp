{
 "cells": [
  {
   "cell_type": "markdown",
   "metadata": {
    "deletable": true,
    "editable": true
   },
   "source": [
    "# Lab 3 - Regularization and model selection\n",
    "\n",
    "We have seen that a model which is either too simple or too complex is a poor choice, in the sense that it leads to low prediction accuracy (or conversely, high prediction error).\n",
    "\n",
    "A way to control the complexity of a model is to minimize a functional which has the following form:\n",
    "\n",
    "$$\n",
    "H[f] = L(\\mathbf{y}, f(X)) + \\alpha V(f)\n",
    "$$\n",
    "\n",
    "where $L$ is the _loss_ term, which reflects the adherence to the training data (i.e., how well we're able to predict the outputs relative to the inputs of training points), while V is the _regularization_ term, which increases with the complexity of function $f$.\n",
    "$\\alpha > 0$ is a parameter that controls the amount of regularization.\n",
    "\n",
    "However, at this point we apparently just moved the problem from \"which is the best degree of a polynomial?\" to \"which is the most appropriate value for the $\\alpha$ parameter?\".\n",
    "\n",
    "We need to have a well-defined procedure for selecting the best (given the available data) model, which in this instance of the problem translates to selecting the best value for the $\\alpha$ parameter.\n",
    "\n",
    "<img style=\"float: left;\" src=\"warning.png\" width=\"20px\"> &nbsp; **Warning**: from now on we will abandon \"home made\" functions wherever possible and start using those provided by the `scikit-learn` python library.\n",
    "\n",
    "Main concepts:\n",
    "\n",
    " * Regularization\n",
    " * Regularized Least Squares\n",
    " * Model selection\n",
    " * K-fold cross validation\n",
    " * The `scikit-learn` library\n",
    " \n",
    "The main question we're going to answer: **how to control/choose the complexity of our model?**"
   ]
  },
  {
   "cell_type": "markdown",
   "metadata": {
    "deletable": true,
    "editable": true
   },
   "source": [
    "## Imports and setup\n",
    "\n",
    "The usual stuff:\n",
    "\n",
    " * Magic command `%matplotlib inline` so that plots are displayed correctly in the notebook.\n",
    " * `matplotlib` followed by `seaborn` in order to have fancy plots\n",
    " * `numpy` _et similia_ for number crunching.\n",
    " \n",
    "Additional libraries will be imported whenever they are needed"
   ]
  },
  {
   "cell_type": "code",
   "execution_count": 43,
   "metadata": {
    "collapsed": false,
    "deletable": true,
    "editable": true
   },
   "outputs": [],
   "source": [
    "%matplotlib inline\n",
    "\n",
    "import matplotlib\n",
    "from matplotlib import pyplot as plt\n",
    "\n",
    "import seaborn\n",
    "\n",
    "import numpy as np"
   ]
  },
  {
   "cell_type": "markdown",
   "metadata": {
    "deletable": true,
    "editable": true
   },
   "source": [
    "## Previously defined functions\n",
    "\n",
    "To speed up things, here are all functions used in previous labs. We do not need the `my_fit` function as we will use one provided by `scikit-learn`.\n",
    "\n",
    "<img style=\"float: left;\" src=\"warning.png\" width=\"20px\"> &nbsp; **Warning**: this time the feature mapping function `Phi` is slightly different: this time we do not need to explicitly add a column of ones at the beginning of the matrix as the intercept is automatically handled by the sklearn functions we will use."
   ]
  },
  {
   "cell_type": "code",
   "execution_count": 44,
   "metadata": {
    "collapsed": true,
    "deletable": true,
    "editable": true
   },
   "outputs": [],
   "source": [
    "def my_generate_ds(n, f, sigma=0.3):\n",
    "    \"\"\"\n",
    "    Function used to generate synthetic data\n",
    "    \"\"\"\n",
    "    \n",
    "    X = np.random.uniform(-1, 1, size=(n,1))\n",
    "    y = f(X)\n",
    "    \n",
    "    return X, y\n",
    "\n",
    "# Define the feature mapping\n",
    "def Phi(X, degree=3):\n",
    "    \"\"\"\n",
    "    Expand an n x 1 matrix into and n x (d-1) matrix,\n",
    "    where in each column j there is X_i^(j+1)\n",
    "    \"\"\"\n",
    "    \n",
    "    n, d = X.shape\n",
    "    \n",
    "    l = [ X]\n",
    "    \n",
    "    for j in range(2, degree+1):\n",
    "        l.append(X**j)\n",
    "    \n",
    "    X_new = np.hstack(tuple(l))\n",
    "    \n",
    "    return X_new"
   ]
  },
  {
   "cell_type": "markdown",
   "metadata": {
    "deletable": true,
    "editable": true
   },
   "source": [
    "## Dataset generation\n",
    "\n",
    "We generate the same dataset as before, 8 data points from a polynomial of degree 2."
   ]
  },
  {
   "cell_type": "code",
   "execution_count": 45,
   "metadata": {
    "collapsed": false,
    "deletable": true,
    "editable": true
   },
   "outputs": [],
   "source": [
    "### Dataset generation\n",
    "\n",
    "n = 8 # the number of samples\n",
    "\n",
    "w1 = 1.3\n",
    "w2 = -1.5\n",
    "c = -0.7\n",
    "\n",
    "sigma = 0.3\n",
    "\n",
    "np.random.seed(6)\n",
    "\n",
    "f = lambda x : w1*x + w2*x**2 + c + np.random.normal(0, sigma**2, size=(n,1))\n",
    "\n",
    "X, y = my_generate_ds(n, f)"
   ]
  },
  {
   "cell_type": "markdown",
   "metadata": {
    "deletable": true,
    "editable": true
   },
   "source": [
    "### The `scikit-learn` library\n",
    "\n",
    "First of all, let's try to reproduce the same results we obtained earlier by computing the results \"manually\", that is explicitly minimizing the functional.\n",
    "\n",
    "We still need to expand the matrix using the feature mapping function `Phi`, although as previously stated this time we don't need to explicitly account for the intercept, as the `sklearn` function will do it for us.\n",
    "\n",
    "Each learning algorithm has its own class; the one for Ordinary Least Squares is `LinearRegression` from `sklearn.linear_model`. \n",
    "\n",
    "All those classes follow common conventions:\n",
    "\n",
    "```python\n",
    "from sklearn.linear_model import LinearRegression\n",
    "\n",
    "### Instantiate the object\n",
    "reg = LinearRegression()\n",
    "\n",
    "### Fit the regressor on training data (both inputs X and outputs y are required)\n",
    "reg.fit(X_train,y_train)\n",
    "\n",
    "### Predict the outputs relative to test data using the fitted model\n",
    "y_pred = reg.predict()\n",
    "\n",
    "### For the LinearRegression algorithm, the coefficients are stored in reg.coef_\n",
    "### The intercept is stored separately in reg.intercept_\n",
    "w = reg.coef_\n",
    "c = reg.intercept_\n",
    "```\n",
    "\n",
    "<img style=\"float: left;\" src=\"warning.png\" width=\"20px\"> &nbsp; **Warning**: because of _reasons_, you have to add `.ravel()` when copying the coefficients computed by the fit, so that later on there are no issues with the shape of the numpy array of the coefficients. So, from **`w = reg.coef_`** to **`w = reg.coef_.ravel()`**, all the times.\n",
    "\n",
    "If you have any doubts, check the documentation at http://scikit-learn.org/stable/modules/linear_model.html.\n",
    "\n",
    "In the box below, try to fit the four curves (try one at a time and plot it) using `LinearRegression`. Use all 8 data points as training set. I left (commented) the code to produce the plots, to speed up things."
   ]
  },
  {
   "cell_type": "code",
   "execution_count": 46,
   "metadata": {
    "collapsed": false,
    "deletable": true,
    "editable": true
   },
   "outputs": [
    {
     "data": {
      "image/png": "[encoded data removed]",
      "text/plain": [
       "<matplotlib.figure.Figure at 0x7f1372454390>"
      ]
     },
     "metadata": {},
     "output_type": "display_data"
    }
   ],
   "source": [
    "from sklearn.linear_model import LinearRegression\n",
    "\n",
    "### BEGIN STUDENTS ###\n",
    "\n",
    "# w_hat1 = ...\n",
    "# c1 = ...\n",
    "# ...\n",
    "# w_hat7 = ...\n",
    "# c7 = ...\n",
    "\n",
    "### END STUDENTS ###\n",
    "\n",
    "fig, ax = plt.subplots()\n",
    "\n",
    "ax.set_title(\"Dummy dataset\")\n",
    "ax.set_xlabel(\"$x$\")\n",
    "ax.set_ylabel(\"$y$\")\n",
    "\n",
    "ax.scatter(X, y, c=[\"orange\"]);\n",
    "\n",
    "# Generate points on the fitted curve\n",
    "xmin = X.min()\n",
    "xmax = X.max()\n",
    "\n",
    "n_ticks = 100\n",
    "\n",
    "ticks = np.linspace(xmin, xmax, 100).reshape((n_ticks, 1))\n",
    "\n",
    "# Something has changed here...\n",
    "y_ticks1 = ticks.dot(w_hat1) + c1\n",
    "y_ticks2 = Phi(ticks, 2).dot(w_hat2) + c2\n",
    "y_ticks3 = Phi(ticks, 3).dot(w_hat3) + c3\n",
    "y_ticks7 = Phi(ticks, 7).dot(w_hat7) + c7\n",
    "\n",
    "# Plot the fitted curves\n",
    "curve1 = ax.plot(ticks, y_ticks1, 'r-', label=\"Straight line\", alpha=0.5);\n",
    "curve2 = ax.plot(ticks, y_ticks2, 'g-', label=\"Polynomial of degree 2\", alpha=0.5);\n",
    "curve3 = ax.plot(ticks, y_ticks3, 'b-', label=\"Polynomial of degree 3\", alpha=0.5);\n",
    "curve7 = ax.plot(ticks, y_ticks7, 'y-', label=\"Polynomial of degree 7\", alpha=0.5);\n",
    "\n",
    "ax.legend(bbox_to_anchor=(1.05, 1), loc=2, borderaxespad=0.);\n",
    "\n",
    "\n",
    "### In case you want to be extra-sure, grab the code used to compute the w_hat for the \n",
    "### polynomial of degree 2 in the previous lab and compare the results using the two procedures\n",
    "### However, if you do so, you will need to include again the column of 'ones' manually \n",
    "### (check the documentation for np.hstack)"
   ]
  },
  {
   "cell_type": "markdown",
   "metadata": {
    "deletable": true,
    "editable": true
   },
   "source": [
    "## Regularization\n",
    "\n",
    "A way to extend the simple (Ordinary) Least Squares method in order to have a way to control the complexity of the model is to add a _penalty_ to the minimized functional.\n",
    "Intuitively, in a linear model, the complexity of the model is related to the absolute value of the coefficients, which control the _smoothness_ of the curve.\n",
    "\n",
    "A natural candidate for this penalty function would be the _squared $\\ell_2$ norm_, that is the euclidean norm. This extension to OLS is called _Regularized Least Squares_ (RLS) or _Ridge Regression_, and the functional minimized has the following form:\n",
    "\n",
    "$$\n",
    "\\frac{1}{n} \\| \\mathbf{y} - X \\mathbf{w}\\|_2^2 + \\alpha \\| \\mathbf{w}\\|_2^2\n",
    "$$\n",
    "\n",
    "The loss term $\\alpha \\| \\mathbf{w}\\|_2^2$ limits the coefficients of $\\mathbf{w}$. The $\\alpha$ parameter determines the importance of the loss term in the functional: high values of $\\alpha$ will lead to vey smooth curves, as most coefficients will shrink, on the other hand small values of $\\alpha$ will have almost no effect and the solution returned will be the same which would have been returned by the OLS algorithm.\n",
    "\n",
    "The truth, as they say, lies in between. Probably.\n",
    "\n",
    "In order to use the Ridge Regression algorithm you need to instantiate the appropriate `sklearn` class. \n",
    "\n",
    "Then, `fit` and `predict` methods are used to fit a model and predict the outputs of any input data (duh!).\n",
    "\n",
    "```python\n",
    "from sklearn.linear_models import Ridge\n",
    "\n",
    "### Choose a value for the regularization parameter\n",
    "my_alpha = 1\n",
    "\n",
    "### Instantiate the object for regression\n",
    "reg = Ridge(alpha=my_alpha)\n",
    "\n",
    "### Fit the model on training data\n",
    "reg.fit(X_train, y_train)\n",
    "\n",
    "### Predict the outputs relative to test data using the fitted model\n",
    "y_pred = reg.predict()\n",
    "\n",
    "### For the LinearRegression algorithm, the coefficients are stored in reg.coef_\n",
    "### The intercept is stored separately in reg.intercept_\n",
    "w = reg.coef_\n",
    "c = reg.intercept_\n",
    "```\n",
    "\n",
    "As you can see, the steps _after_ the object has been instantiated are exactly the same. This holds for **all** learning algorithms included in the `scikit-learn` library.\n",
    "\n",
    "In the cell below, fit a polynomial of degree 7 on the dataset using Ridge Regression. Play with the $\\alpha$ parameter as will.\n",
    "\n",
    "<img style=\"float: left;\" src=\"info.png\" width=\"20px\"> &nbsp; **Tip**: choose $0 < \\alpha < 100$."
   ]
  },
  {
   "cell_type": "code",
   "execution_count": 47,
   "metadata": {
    "collapsed": false,
    "deletable": true,
    "editable": true
   },
   "outputs": [
    {
     "data": {
      "image/png": "[encoded data removed]",
      "text/plain": [
       "<matplotlib.figure.Figure at 0x7f13b1d07910>"
      ]
     },
     "metadata": {},
     "output_type": "display_data"
    }
   ],
   "source": [
    "from sklearn.linear_model import Ridge\n",
    "\n",
    "### BEGIN STUDENTS ###\n",
    "\n",
    "# j = ...\n",
    "# my_alpha = ...\n",
    "# reg = ... \n",
    "\n",
    "### END STUDENTS ###\n",
    "\n",
    "### PLOTTING\n",
    "fig, ax = plt.subplots()\n",
    "\n",
    "ax.set_title(\"Dummy dataset\")\n",
    "ax.set_xlabel(\"$x$\")\n",
    "ax.set_ylabel(\"$y$\")\n",
    "\n",
    "ax.scatter(X, y, c=[\"orange\"]);\n",
    "\n",
    "# Generate points on the fitted curve\n",
    "xmin = X.min()\n",
    "xmax = X.max()\n",
    "\n",
    "n_ticks = 100\n",
    "\n",
    "ticks = np.linspace(xmin, xmax, 100).reshape((n_ticks, 1))\n",
    "\n",
    "# Something has changed here...\n",
    "y_ticks = reg.predict(Phi(ticks, j))\n",
    "\n",
    "\n",
    "# Plot the fitted curves\n",
    "curve1 = ax.plot(ticks, y_ticks, 'r-', label=\"Straight line\", alpha=0.5);"
   ]
  },
  {
   "cell_type": "markdown",
   "metadata": {
    "deletable": true,
    "editable": true
   },
   "source": [
    "Now try and see what happens with very high or very low values for $\\alpha$."
   ]
  },
  {
   "cell_type": "code",
   "execution_count": 48,
   "metadata": {
    "collapsed": false,
    "deletable": true,
    "editable": true
   },
   "outputs": [
    {
     "data": {
      "image/png": "[encoded data removed]",
      "text/plain": [
       "<matplotlib.figure.Figure at 0x7f1372e23250>"
      ]
     },
     "metadata": {},
     "output_type": "display_data"
    }
   ],
   "source": [
    "### BEGIN STUDENTS ###\n",
    "\n",
    "# j = ...\n",
    "# alpha_low = ...\n",
    "# alpha_high = ...\n",
    "\n",
    "# reg_low = ...\n",
    "# reg_high = ...\n",
    "\n",
    "### END STUDENTS ###\n",
    "\n",
    "### PLOTTING\n",
    "\n",
    "# Generate points on the fitted curve\n",
    "xmin = X.min()\n",
    "xmax = X.max()\n",
    "\n",
    "n_ticks = 100\n",
    "ticks = np.linspace(xmin, xmax, 100).reshape((n_ticks, 1))\n",
    "\n",
    "fig, (ax1, ax2) = plt.subplots(1,2, figsize=(16,5), sharey=True)\n",
    "\n",
    "ax1.set_title(r\"Low $\\alpha$\")\n",
    "ax1.set_xlabel(\"$x$\")\n",
    "ax1.set_ylabel(\"$y$\")\n",
    "\n",
    "ax1.scatter(X, y, c=[\"orange\"]);\n",
    "\n",
    "\n",
    "ax2.set_title(r\"High $\\alpha$\")\n",
    "ax2.set_xlabel(\"$x$\")\n",
    "ax2.set_ylabel(\"$y$\")\n",
    "\n",
    "ax2.scatter(X, y, c=[\"orange\"]);\n",
    "\n",
    "# Compute the y coordinates of the points of the curves\n",
    "y_ticks_low = reg_low.predict(Phi(ticks, j))\n",
    "y_ticks_high = reg_high.predict(Phi(ticks, j))\n",
    "\n",
    "# Plot the fitted curves\n",
    "curve1 = ax1.plot(ticks, y_ticks_low, 'r-', label=\"Straight line\", alpha=0.5);\n",
    "curve2 = ax2.plot(ticks, y_ticks_high, 'r-', label=\"Straight line\", alpha=0.5);"
   ]
  },
  {
   "cell_type": "markdown",
   "metadata": {
    "deletable": true,
    "editable": true
   },
   "source": [
    "Did you expect this result (the one on the right, especially)?\n",
    "\n",
    "The reason why you're getting a straight line is that the weight $\\alpha$ assigned to the penalty term is so high that the functional is minimized by putting all coefficients equal to zero. You are just left with the intercept, which you will find out to be very close to the average of the outputs."
   ]
  },
  {
   "cell_type": "code",
   "execution_count": 49,
   "metadata": {
    "collapsed": false,
    "deletable": true,
    "editable": true
   },
   "outputs": [
    {
     "name": "stdout",
     "output_type": "stream",
     "text": [
      "Intercept of the fitted curve:\t[-1.22869354]\n",
      "Mean of the output values y:\t-1.2287099439\n"
     ]
    }
   ],
   "source": [
    "print(\"Intercept of the fitted curve:\\t{}\".format(reg_high.intercept_))\n",
    "print(\"Mean of the output values y:\\t{}\".format(y.mean()))"
   ]
  },
  {
   "cell_type": "markdown",
   "metadata": {
    "deletable": true,
    "editable": true
   },
   "source": [
    "## Model selection\n",
    "\n",
    "We still have a problem: while we _do_ have a way to control the complexity of the model through regularization, the method we have seen relies on a parameter ($\\alpha$) which must be chosen somehow.\n",
    "\n",
    "The most intuitive thing to do is to try and fit several models, each one of them using a different value for $\\alpha$, ranging from very low to very high, and see how they perform. This means splitting the dataset in training and test set, training a model on the training set and evaluating its performance on the test set.\n",
    "The best value will be the one which will produce the model with the lowest test error.\n",
    "\n",
    "In the cell below, implement the procedure described above using a polynomial of degree 7, plotting the curve relative to the best value of alpha. While training the various models, save in two lists all _training errors_ (i.e., the error you make when trying to predict the same samples on which you trained the model) and _test errors_ (which you will use to determine the best model).\n",
    "\n",
    "<img style=\"float: left;\" src=\"info.png\" width=\"20px\"> &nbsp; **Hint**: use `np.logspace` to generate arrays of values in a logarithmic space (useful to explore the range of possible values for $\\alpha$, as $\\mathbb{R}$ has far too many elements)."
   ]
  },
  {
   "cell_type": "code",
   "execution_count": null,
   "metadata": {
    "collapsed": true,
    "deletable": true,
    "editable": true
   },
   "outputs": [],
   "source": [
    "from sklearn.metrics import mean_squared_error\n",
    "\n",
    "### Dataset generation\n",
    "\n",
    "n = 15 # the number of samples\n",
    "\n",
    "w1 = 1.3\n",
    "w2 = -1.5\n",
    "c = -0.7\n",
    "\n",
    "sigma = 0.3\n",
    "\n",
    "np.random.seed(6)\n",
    "\n",
    "f = lambda x : w1*x + w2*x**2 + c + np.random.normal(0, sigma**2, size=(n,1))\n",
    "\n",
    "X, y = my_generate_ds(n, f)"
   ]
  },
  {
   "cell_type": "code",
   "execution_count": 70,
   "metadata": {
    "collapsed": false,
    "deletable": true,
    "editable": true
   },
   "outputs": [
    {
     "data": {
      "image/png": "[encoded data removed]",
      "text/plain": [
       "<matplotlib.figure.Figure at 0x7f1371fad590>"
      ]
     },
     "metadata": {},
     "output_type": "display_data"
    }
   ],
   "source": [
    "### BEGIN STUDENTS ###\n",
    "\n",
    "# j = ...\n",
    "# best_alpha = ...\n",
    "\n",
    "# train_errors = ...\n",
    "# test_errors = ...\n",
    "\n",
    "### END STUDENTS ###\n",
    "\n",
    "best_alpha = alpha_range[np.argmin(test_errors)]\n",
    "\n",
    "reg = Ridge(alpha=best_alpha)\n",
    "reg.fit(Phi(X, j), y)\n",
    "\n",
    "### PLOTTING\n",
    "fig, ax = plt.subplots()\n",
    "\n",
    "ax.set_title(\"Best model\")\n",
    "ax.set_xlabel(\"$x$\")\n",
    "ax.set_ylabel(\"$y$\")\n",
    "\n",
    "ax.scatter(X, y, c=[\"orange\"]);\n",
    "\n",
    "# Generate points on the fitted curve\n",
    "xmin = X.min()\n",
    "xmax = X.max()\n",
    "\n",
    "n_ticks = 100\n",
    "\n",
    "ticks = np.linspace(xmin, xmax, 100).reshape((n_ticks, 1))\n",
    "\n",
    "# Something has changed here...\n",
    "y_ticks = reg.predict(Phi(ticks, j))\n",
    "\n",
    "# Plot the fitted curves\n",
    "curve1 = ax.plot(ticks, y_ticks, 'r-', label=\"\", alpha=0.5);\n"
   ]
  },
  {
   "cell_type": "markdown",
   "metadata": {
    "deletable": true,
    "editable": true
   },
   "source": [
    "Cool, huh?\n",
    "\n",
    "Let's now plot the training errors and test errors and see how they change with the value of $\\alpha$"
   ]
  },
  {
   "cell_type": "code",
   "execution_count": 79,
   "metadata": {
    "collapsed": false,
    "deletable": true,
    "editable": true
   },
   "outputs": [
    {
     "data": {
      "image/png": "[encoded data removed]",
      "text/plain": [
       "<matplotlib.figure.Figure at 0x7f137264edd0>"
      ]
     },
     "metadata": {},
     "output_type": "display_data"
    }
   ],
   "source": [
    "fig, ax = plt.subplots(figsize=(10,5))\n",
    "\n",
    "ax.set_title(\"Error curves\")\n",
    "ax.set_xlabel(r\"$\\alpha$\")\n",
    "ax.set_ylabel(\"MSE\")\n",
    "\n",
    "# Generate points on the fitted curve\n",
    "xmin = X.min()\n",
    "xmax = X.max()\n",
    "\n",
    "n_ticks = 100\n",
    "\n",
    "ticks = np.linspace(xmin, xmax, 100).reshape((n_ticks, 1))\n",
    "\n",
    "# Something has changed here...\n",
    "y_ticks = reg.predict(Phi(ticks, j))\n",
    "\n",
    "# Plot the fitted curves\n",
    "curve2 = ax.semilogx(alpha_range, np.array(train_errors), 'r-', label=\"Training error\", alpha=0.5);\n",
    "curve1 = ax.semilogx(alpha_range, np.array(test_errors), 'b-', label=\"Test error\", alpha=0.5);\n",
    "\n",
    "ax.vlines(best_alpha, 0,  1, 'k', linestyles='dashed', label=r\"Best $\\alpha$\")\n",
    "\n",
    "\n",
    "ax.legend(bbox_to_anchor=(1.05, 1), loc=2, borderaxespad=0.);"
   ]
  },
  {
   "cell_type": "markdown",
   "metadata": {
    "deletable": true,
    "editable": true
   },
   "source": [
    "### K-fold Cross Validation (KCV)\n",
    "\n",
    "The method we used to select the best model has a flaw: the solution depends on how the original dataset is split initially in training and test set.  \n",
    "While in this case is not really a problem since we are in a very low-dimensional space and just a few samples are enough to ensure that the both the training and the test set well represent the dataset, this might be an issue in real life scenarios, where the number of dimension is much higher and the number of samples is limited.\n",
    "\n",
    "A way to reduce the effect induced by the random splitting of the dataset in training and test set is to use a strategy called _k-fold Cross Validation_ (KCV).\n",
    "\n",
    "The dataset is partitioned into $k$ equal sized subsamples. Of the $k$ subsamples, a single subsample is retained as the validation data for testing the model, and the remaining $k - 1$ subsamples are used as training data. The cross-validation process is then repeated $k$ times (the folds), with each of the $k$ subsamples used exactly once as the validation data. The $k$ results from the folds can then be averaged to produce a single estimation.  \n",
    "A scheme of such procedure is shown in the figure below.\n",
    "\n",
    "![K-fold Cross Validation](k-fold.png \"K-fold Cross Validation\")\n",
    "\n",
    "Luckily, `scikit-learn` provides a class to perform KCV with little effort.\n",
    "\n",
    "```python\n",
    "\n",
    "from sklearn.model_selection import GridSearchCV\n",
    "\n",
    "# Choose the number of splits\n",
    "k = 3\n",
    "\n",
    "# Choose the search space of the parameter\n",
    "alpha_range = np.logspace(-10,2, 20)\n",
    "\n",
    "reg = Ridge() # Note how the alpha parameter is NOT specified here\n",
    "\n",
    "grid_search = GridSearchCV(\n",
    "                           reg, # The actual estimator object, instantiated\n",
    "                           param_grid={'alpha' : alpha_range}, # the range of parameters\n",
    "                           cv=k) # The number of folds\n",
    "\n",
    "# The training is performed passing the whole dataset\n",
    "# The class itself behaves as an estimator and handles the splitting in folds\n",
    "grid_search.fit(X, y)\n",
    "\n",
    "# Use the GridSearchCV object itself to predict new outputs\n",
    "grid_search.predict(X)\n",
    "```\n",
    "\n",
    "Try to repeat the model selection procedure on the same dataset and model as before, this time using KCV."
   ]
  },
  {
   "cell_type": "code",
   "execution_count": 84,
   "metadata": {
    "collapsed": false,
    "deletable": true,
    "editable": true
   },
   "outputs": [
    {
     "data": {
      "image/png": "[encoded data removed]",
      "text/plain": [
       "<matplotlib.figure.Figure at 0x7f1372edcd50>"
      ]
     },
     "metadata": {},
     "output_type": "display_data"
    }
   ],
   "source": [
    "from sklearn.model_selection import GridSearchCV\n",
    "\n",
    "### BEGIN STUDENTS ###\n",
    "\n",
    "# j = ...\n",
    "# k = ...\n",
    "# alpha_range = ...\n",
    "# grid_search = ...\n",
    "\n",
    "### END STUDENTS ###\n",
    "\n",
    "\n",
    "### PLOTTING\n",
    "fig, ax = plt.subplots()\n",
    "\n",
    "ax.set_title(\"Best model\")\n",
    "ax.set_xlabel(\"$x$\")\n",
    "ax.set_ylabel(\"$y$\")\n",
    "\n",
    "ax.scatter(X, y, c=[\"orange\"]);\n",
    "\n",
    "# Generate points on the fitted curve\n",
    "xmin = X.min()\n",
    "xmax = X.max()\n",
    "\n",
    "n_ticks = 100\n",
    "\n",
    "ticks = np.linspace(xmin, xmax, 100).reshape((n_ticks, 1))\n",
    "\n",
    "# Something has changed here...\n",
    "y_ticks = grid_search.predict(Phi(ticks, j))\n",
    "\n",
    "# Plot the fitted curves\n",
    "curve1 = ax.plot(ticks, y_ticks, 'r-', label=\"\", alpha=0.5);"
   ]
  },
  {
   "cell_type": "code",
   "execution_count": null,
   "metadata": {
    "collapsed": true,
    "deletable": true,
    "editable": true
   },
   "outputs": [],
   "source": []
  }
 ],
 "metadata": {
  "anaconda-cloud": {},
  "kernelspec": {
   "display_name": "Python 2",
   "language": "python",
   "name": "python2"
  },
  "language_info": {
   "codemirror_mode": {
    "name": "ipython",
    "version": 2
   },
   "file_extension": ".py",
   "mimetype": "text/x-python",
   "name": "python",
   "nbconvert_exporter": "python",
   "pygments_lexer": "ipython2",
   "version": "2.7.13"
  }
 },
 "nbformat": 4,
 "nbformat_minor": 0
}

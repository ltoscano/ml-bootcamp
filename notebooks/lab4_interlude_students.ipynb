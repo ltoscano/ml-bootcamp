{
 "cells": [
  {
   "cell_type": "markdown",
   "metadata": {
    "deletable": true,
    "editable": true
   },
   "source": [
    "# Lab 4 - Interlude: from regression to classification\n",
    "\n",
    "So far we saw _regression_ problems where the inputs were _one-dimensional_, that is they consisted of **real values** ($x_i \\in \\mathbb{R}$), and the goal was to find a curve that fitted the data points.\n",
    "\n",
    "We now introduce a different family of problems, namely _classification_ problems, whose setting is slightly different.\n",
    "\n",
    "The main difference with respect to regression problems is the _nature_ of the outputs: while for regression outputs consisted of real values, in classification tasks the outputs are _class labels_ that indicate to which \n",
    "category (or class) a sample belongs.\n",
    "While we're here, we put ourselves in a more general setting by allowing the **inputs** to be _vectors_ of a fixed length $d$, which we'll refer to as _data dimensionality_.\n",
    "\n",
    "For instance, a dataset may consist of the expression levels of several genes for a group of individuals divided in two groups: patients affected by some disease and healthy individuals.\n",
    "\n",
    "In this example, the dataset is given in the form of a **data matrix** $X \\in \\mathbb{R}^{n \\times d}$ (the inputs) and a **labels vector** $\\mathbf{y} \\in \\{ \\mathrm{healthy}, \\mathrm{sick} \\}^n$ (the outputs)\n",
    "\n",
    "Just to be clear, the vector $\\mathbf{y}$ is essentially a list of $n$ labels, where the $i$-th label is associated to the sample represented by the $i$-th row of the $X$ data matrix.\n",
    "\n",
    "<img style=\"float: left;\" src=\"info.png\" width=\"20px\"> &nbsp; **Notation**: from now on, we will use the letter $d$ to indicate data dimensionality, and $n$ to indicate the number of samples in a dataset. When iterating, $i$ will be used for rows (i.e. samples) and $j$ for columns (i.e. variables/features). Anyone caught using other symbols will be persecuted.\n",
    "\n",
    "In cases such as the above example, where the number of categories is **two**, the task is called _binary classification_.\n",
    "\n",
    "We'll see now how almost all concepts introduced when talking about regression still hold for classification, albeit with some minor changes\n",
    "\n",
    "Main concepts:\n",
    "\n",
    " * [Binary] Classification\n",
    " * Data dimensionality"
   ]
  },
  {
   "cell_type": "markdown",
   "metadata": {
    "deletable": true,
    "editable": true
   },
   "source": [
    "## Imports and setup\n",
    "\n",
    "The usual stuff:\n",
    "\n",
    " * Magic command `%matplotlib inline` so that plots are displayed correctly in the notebook.\n",
    " * `matplotlib` followed by `seaborn` in order to have fancy plots\n",
    " * `numpy` _et similia_ for number crunching.\n",
    " \n",
    "Additional libraries will be imported whenever they are needed"
   ]
  },
  {
   "cell_type": "code",
   "execution_count": 1,
   "metadata": {
    "collapsed": false,
    "deletable": true,
    "editable": true
   },
   "outputs": [],
   "source": [
    "%matplotlib inline\n",
    "\n",
    "import matplotlib\n",
    "from matplotlib import pyplot as plt\n",
    "\n",
    "import seaborn\n",
    "\n",
    "import numpy as np"
   ]
  },
  {
   "cell_type": "markdown",
   "metadata": {
    "deletable": true,
    "editable": true
   },
   "source": [
    "## Dataset generation\n",
    "\n",
    "This time we will generate a synthetic classification dataset using a function from the `scikit-learn` library. There are many parameters that control various characteristics of the dataset. The default values for a few of them are not ok for our purposes, so we have to override them.\n",
    "\n",
    "Print the shape of X and y to familiarize with the format of those arrays.\n",
    "\n",
    "<img style=\"float: left;\" src=\"info.png\" width=\"20px\"> &nbsp; **Hint**: The shape of a `numpy` array is available through the object's _property_ `shape`.\n",
    "\n",
    "```python\n",
    "import numpy as np\n",
    "\n",
    "X = np.array([[1,2], [3,4], [5,6]])\n",
    "print(X.shape)\n",
    "```"
   ]
  },
  {
   "cell_type": "code",
   "execution_count": 2,
   "metadata": {
    "collapsed": false,
    "deletable": true,
    "editable": true
   },
   "outputs": [
    {
     "name": "stdout",
     "output_type": "stream",
     "text": [
      "Shape of X: (100, 2)\n",
      "Shape of y: (100,)\n"
     ]
    }
   ],
   "source": [
    "from sklearn.datasets import make_classification\n",
    "\n",
    "### Set the number of samples and dimensions\n",
    "### With d = 2 we will still be able to visualize our dataset\n",
    "n, d = 100, 2\n",
    "\n",
    "np.random.seed(2)\n",
    "\n",
    "X, y = make_classification(n_samples=n, \n",
    "                           n_features=d, \n",
    "                           n_informative=d, \n",
    "                           n_redundant=0, \n",
    "                           n_repeated=0, \n",
    "                           n_classes=2, \n",
    "                           n_clusters_per_class=1, \n",
    "                           flip_y=0.05, \n",
    "                           class_sep=1.0, \n",
    "                           )\n",
    "\n",
    "### BEGIN STUDENT ###\n",
    "# Print the shape of X and y\n",
    "\n",
    "### END STUDENT ###"
   ]
  },
  {
   "cell_type": "markdown",
   "metadata": {
    "deletable": true,
    "editable": true
   },
   "source": [
    "Notice how the shape of X is a tuple of **two** elements, as it is a bidimensional matrix, while the shape of y is a tuple of only **one** element, as y is a vector.\n",
    "\n",
    "Below, a plot of the dataset."
   ]
  },
  {
   "cell_type": "code",
   "execution_count": 3,
   "metadata": {
    "collapsed": false,
    "deletable": true,
    "editable": true
   },
   "outputs": [
    {
     "data": {
      "image/png": "[encoded data removed]",
      "text/plain": [
       "<matplotlib.figure.Figure at 0x117568a90>"
      ]
     },
     "metadata": {},
     "output_type": "display_data"
    }
   ],
   "source": [
    "### Save the colors so that we ca use them later\n",
    "colors = {\n",
    "    'orange':'#FF9707',\n",
    "    'azure': '#00A5DD',\n",
    "}\n",
    "\n",
    "fig, ax = plt.subplots()\n",
    "\n",
    "ax.set_title(\"Classification dataset\")\n",
    "ax.set_xlabel(\"$x_1$\")\n",
    "ax.set_ylabel(\"$x_2$\")\n",
    "\n",
    "X1 = X[np.argwhere(y == 1).ravel(), :]\n",
    "X0 = X[np.argwhere(y == 0).ravel(), :]\n",
    "\n",
    "ax.scatter(X0[:,0], X0[:,1], c=colors['orange'], marker='^', label='Class 1');\n",
    "ax.scatter(X1[:,0], X1[:,1], c=colors['azure'], label='Class 2');\n",
    "\n",
    "ax.legend(bbox_to_anchor=(1.05, 1), loc=2, borderaxespad=0.);"
   ]
  },
  {
   "cell_type": "markdown",
   "metadata": {
    "deletable": true,
    "editable": true
   },
   "source": [
    "There are several differences with respect to the plot of a regression dataset: the most important one is that while for regression inputs lie on one of the axis (the horizontal one) and outputs on the other one (the vertical one), here both axis are used to represent the input, which is bidimensional, while the output (the category) is represented using different symbols and colors for samples belonging to the two classes.\n",
    "\n",
    "Let's break the code down:\n",
    "\n",
    "```python\n",
    "X1 = X[np.argwhere(y == 1).ravel(), :]\n",
    "X0 = X[np.argwhere(y == 0).ravel(), :]\n",
    "```\n",
    "\n",
    "With this code, we split the dataset in two: those points whose label is 1, and those whose label is 0. The `make_classification` function encodes the different classes using integers, starting from 0. Any other choice of two different integers (such as -1 and +1) is fine.\n",
    "\n",
    "```python\n",
    "ax.scatter(X0[:,0], X0[:,1], c=colors['orange'], label='Class 1');\n",
    "ax.scatter(X1[:,0], X1[:,1], c=colors['azure'], marker='^', label='Class 2');\n",
    "```\n",
    "\n",
    "Then, we plot the two points separately, by using the first column of each submatrix for the horizontal axis and the other one for the vertical axis. Remember that the syntax `X[:, 0]` is used to select **all rows** (`:`), but **only the first colun** (`0`).\n",
    "\n",
    "This example however has a limited use as when the number of dimensions of the input is greater than **three** (in which case you can still visualize points with a 3D plot) you cannot plot the points in their originale space. Because, you know, we live in a 3D world."
   ]
  },
  {
   "cell_type": "markdown",
   "metadata": {
    "deletable": true,
    "editable": true
   },
   "source": [
    "## Learning algorithms for classification\n",
    "\n",
    "Now to the good stuff: what do I do to infer a function that predicts the _labels_, rather than a real value?\n",
    "\n",
    "Good news, everyone! As promised, it's done [almost] in the same way as for regression!\n",
    "\n",
    "The principle, for most algorithms for classification, is actually the same: we minimize a functional whose terms are a _loss function_, which reflects how bad we're predicting the output values, and possibly some _penalty_ term to limit the complexity of the function. \n",
    "\n",
    "$$\n",
    "H[f] = L(\\mathbf{y}, f(X)) + \\alpha V(f)\n",
    "$$\n",
    "\n",
    "We can still fit a linear model to the data and use the _square loss_ as loss function or we can choose something else, such as the _logistic loss_ (used in _Logistic Regression_, which despite the name is actually a classification algorithm).\n",
    "\n",
    "You may point out that the output of a linear function is still a real value and not a discrete category: you're right, the fact is that in this case we're not actually looking for a curve that passes as close as possible to the training data but rather we're trying to find a _plane_ (or, more generally, a _hyperplane_) which splits the input space ($\\mathbb{R}^w$ in the example above) in two. On one side, characterized by $f(\\mathbf{x}) > 0$, the function will assign all inputs to one of the two categories, on the other one ($f(\\mathbf{x}) < 0$) it will assign inputs to the other category. The points that satisfy equation $f(\\mathbf{x}) = 0$ are exactly those of the hyperplane.\n",
    "To predict the class of an input, simply take the _sign_ of $f(\\mathbf{x})$.\n",
    "\n",
    "<img style=\"float: left;\" src=\"warning.png\" width=\"20px\"> &nbsp; **Warning**: You could be tempted by using a more intuitive choice for a loss function, such as the _0-1 loss_, which is 0 if the label is predicted correctly and 1 otherwise. The problem is that this function is _non differentiable_, and the minimization of a functional using this loss would be non trivial. Other choices, such as the square loss, are differentiable and thus quite fit for this task."
   ]
  },
  {
   "cell_type": "markdown",
   "metadata": {
    "deletable": true,
    "editable": true
   },
   "source": [
    "The procedure for training a model is the same:\n",
    "\n",
    " 1. Instantiate an object corresponding to the algorithm you want to use\n",
    " 1. Train it on the training set, using both inputs and outputs, with method `fit`\n",
    " 1. Predict the labels corresponding to the inputs of the test set with method `predict`\n",
    " \n",
    "For instance (assume `X` and `y` already exist)\n",
    "\n",
    "```python\n",
    "\n",
    "from sklearn.linear_model import RidgeClassifier\n",
    "\n",
    "clf = RidgeClassifier()\n",
    "clf.fit(X, y)\n",
    "y_pred = clf.predict(X)\n",
    "```\n",
    "\n",
    "In the box below, fit a classifier with `RidgeClassifier` using the whole dataset."
   ]
  },
  {
   "cell_type": "code",
   "execution_count": 4,
   "metadata": {
    "collapsed": false,
    "deletable": true,
    "editable": true
   },
   "outputs": [
    {
     "data": {
      "text/plain": [
       "RidgeClassifier(alpha=1.0, class_weight=None, copy_X=True, fit_intercept=True,\n",
       "        max_iter=None, normalize=False, random_state=None, solver='auto',\n",
       "        tol=0.001)"
      ]
     },
     "execution_count": 4,
     "metadata": {},
     "output_type": "execute_result"
    }
   ],
   "source": [
    "### BEGIN STUDENTS ###\n",
    "# clf = ...\n",
    "\n",
    "### END STUDENTS ###"
   ]
  },
  {
   "cell_type": "markdown",
   "metadata": {
    "deletable": true,
    "editable": true
   },
   "source": [
    "Now we plot the results"
   ]
  },
  {
   "cell_type": "code",
   "execution_count": 5,
   "metadata": {
    "collapsed": false,
    "deletable": true,
    "editable": true
   },
   "outputs": [
    {
     "data": {
      "image/png": "[encoded data removed]",
      "text/plain": [
       "<matplotlib.figure.Figure at 0x11ba64410>"
      ]
     },
     "metadata": {},
     "output_type": "display_data"
    }
   ],
   "source": [
    "### Save the colors so that we ca use them later\n",
    "colors = {\n",
    "    'orange':'#FF9707',\n",
    "    'azure': '#00A5DD',\n",
    "}\n",
    "\n",
    "fig, ax = plt.subplots()\n",
    "\n",
    "ax.set_title(\"Classification dataset\")\n",
    "ax.set_xlabel(\"$x_1$\")\n",
    "ax.set_ylabel(\"$x_2$\")\n",
    "\n",
    "X1 = X[np.argwhere(y == 1).ravel(), :]\n",
    "X0 = X[np.argwhere(y == 0).ravel(), :]\n",
    "\n",
    "ax.scatter(X0[:,0], X0[:,1], c=colors['orange'], marker='^', label='Class 1');\n",
    "ax.scatter(X1[:,0], X1[:,1], c=colors['azure'], label='Class 2');\n",
    "\n",
    "### Prepare ticks for separating line\n",
    "xmin = X[:, 0].min()\n",
    "xmax = X[:, 0].max()\n",
    "\n",
    "### Stuff to compute separating hyperplane...\n",
    "### Hint: this comes from putting <x, w> + c = 0\n",
    "w1 = clf.coef_[0, 0]\n",
    "w2 = clf.coef_[0, 1]\n",
    "c = clf.intercept_[0]\n",
    "\n",
    "sep = lambda x : -w1/w2*x-c/w2\n",
    "\n",
    "ticks = np.linspace(xmin, xmax, 100)\n",
    "y_ticks = sep(ticks)\n",
    "\n",
    "ax.plot(ticks, y_ticks, ls='--', label='Separating hyperplane');\n",
    "\n",
    "ax.legend(bbox_to_anchor=(1.05, 1), loc=2, borderaxespad=0.);"
   ]
  },
  {
   "cell_type": "markdown",
   "metadata": {
    "deletable": true,
    "editable": true
   },
   "source": [
    "### Model selection\n",
    "\n",
    "Now that you've seen that things work basically in the same way, try to implement again the model selection \n",
    "pipeline seen in the previous lab, using `GridSearchCV`. Try and experiment with other algorithms as well, such as `sklearn.neighbors.KNeighborsClassifier` ([docs here]( http://scikit-learn.org/stable/modules/generated/sklearn.neighbors.KNeighborsClassifier.html#sklearn.neighbors.KNeighborsClassifier)) and `sklearn.linear_model.LogisticRegression` ([docs here](http://scikit-learn.org/stable/modules/generated/sklearn.linear_model.LogisticRegression.html))."
   ]
  },
  {
   "cell_type": "code",
   "execution_count": 6,
   "metadata": {
    "collapsed": true,
    "deletable": true,
    "editable": true
   },
   "outputs": [],
   "source": [
    "### BEGIN STUDENTS ###\n",
    "\n",
    "### END STUDENTS ###"
   ]
  },
  {
   "cell_type": "markdown",
   "metadata": {
    "deletable": true,
    "editable": true
   },
   "source": [
    "## Classification report\n",
    "\n",
    "A useful tool to determine how well your classifier performed is to check a few statistics. `sklearn.metrics.classification_report` (docs [here](http://scikit-learn.org/stable/modules/generated/sklearn.metrics.classification_report.html)) and `sklearn.metrics.confusion_matrix` (docs [here](http://scikit-learn.org/stable/modules/generated/sklearn.metrics.confusion_matrix.html#sklearn.metrics.confusion_matrix))  do just that.\n",
    "\n",
    "In the next cell, you are given a dataset of 150 samples divided in two classes. Use 100 for training and the remaining 50 for test. Then print some statistics."
   ]
  },
  {
   "cell_type": "code",
   "execution_count": 7,
   "metadata": {
    "collapsed": false,
    "deletable": true,
    "editable": true
   },
   "outputs": [
    {
     "ename": "NameError",
     "evalue": "name 'y_test' is not defined",
     "output_type": "error",
     "traceback": [
      "\u001b[0;31m---------------------------------------------------------------------------\u001b[0m",
      "\u001b[0;31mNameError\u001b[0m                                 Traceback (most recent call last)",
      "\u001b[0;32m<ipython-input-7-832c2e81998f>\u001b[0m in \u001b[0;36m<module>\u001b[0;34m()\u001b[0m\n\u001b[1;32m     17\u001b[0m \u001b[0;31m### END STUDENTS ###\u001b[0m\u001b[0;34m\u001b[0m\u001b[0;34m\u001b[0m\u001b[0m\n\u001b[1;32m     18\u001b[0m \u001b[0;34m\u001b[0m\u001b[0m\n\u001b[0;32m---> 19\u001b[0;31m \u001b[0;32mprint\u001b[0m\u001b[0;34m(\u001b[0m\u001b[0mclassification_report\u001b[0m\u001b[0;34m(\u001b[0m\u001b[0my_test\u001b[0m\u001b[0;34m,\u001b[0m \u001b[0my_pred\u001b[0m\u001b[0;34m)\u001b[0m\u001b[0;34m)\u001b[0m\u001b[0;34m\u001b[0m\u001b[0m\n\u001b[0m\u001b[1;32m     20\u001b[0m \u001b[0;32mprint\u001b[0m\u001b[0;34m(\u001b[0m\u001b[0mconfusion_matrix\u001b[0m\u001b[0;34m(\u001b[0m\u001b[0my_test\u001b[0m\u001b[0;34m,\u001b[0m \u001b[0my_pred\u001b[0m\u001b[0;34m)\u001b[0m\u001b[0;34m)\u001b[0m\u001b[0;34m\u001b[0m\u001b[0m\n",
      "\u001b[0;31mNameError\u001b[0m: name 'y_test' is not defined"
     ]
    }
   ],
   "source": [
    "from sklearn.metrics import classification_report, confusion_matrix, accuracy_score\n",
    "\n",
    "X, y = make_classification(n_samples=150, \n",
    "                           n_features=d, \n",
    "                           n_informative=d, \n",
    "                           n_redundant=0, \n",
    "                           n_repeated=0, \n",
    "                           n_classes=2, \n",
    "                           n_clusters_per_class=1, \n",
    "                           flip_y=0.1, \n",
    "                           class_sep=1.0, \n",
    "                           )\n",
    "\n",
    "\n",
    "### BEGIN STUDENTS ###\n",
    "\n",
    "### END STUDENTS ###\n",
    "\n",
    "print(classification_report(y_test, y_pred))\n",
    "print(confusion_matrix(y_test, y_pred))"
   ]
  },
  {
   "cell_type": "markdown",
   "metadata": {
    "deletable": true,
    "editable": true
   },
   "source": [
    "### More learning algorithms\n",
    "\n",
    "Just so that you know, there are lots of learning algorithms for classification which do not rely on linear models. A few examples are k-NN, random forest and SVMs with non-linear kernels. All of these algorithms are available in the `scikit-learn` package and use the same syntax, so it's just a matter of knowing what you're doing."
   ]
  },
  {
   "cell_type": "code",
   "execution_count": null,
   "metadata": {
    "collapsed": true,
    "deletable": true,
    "editable": true
   },
   "outputs": [],
   "source": []
  }
 ],
 "metadata": {
  "anaconda-cloud": {},
  "kernelspec": {
   "display_name": "Python 2",
   "language": "python",
   "name": "python2"
  },
  "language_info": {
   "codemirror_mode": {
    "name": "ipython",
    "version": 2
   },
   "file_extension": ".py",
   "mimetype": "text/x-python",
   "name": "python",
   "nbconvert_exporter": "python",
   "pygments_lexer": "ipython2",
   "version": "2.7.13"
  }
 },
 "nbformat": 4,
 "nbformat_minor": 0
}
